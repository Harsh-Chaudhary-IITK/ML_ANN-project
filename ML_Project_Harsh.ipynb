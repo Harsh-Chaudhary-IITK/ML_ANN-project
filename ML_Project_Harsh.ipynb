{
  "nbformat": 4,
  "nbformat_minor": 0,
  "metadata": {
    "colab": {
      "name": "ML Project Harsh.ipynb",
      "provenance": [],
      "collapsed_sections": [],
      "mount_file_id": "19VfsVKna7aN5HdR6tc8lUqISXT5Nx-b5",
      "authorship_tag": "ABX9TyO85TWhFSOImplSlaga5yN6",
      "include_colab_link": true
    },
    "kernelspec": {
      "name": "python3",
      "display_name": "Python 3"
    },
    "language_info": {
      "name": "python"
    }
  },
  "cells": [
    {
      "cell_type": "markdown",
      "metadata": {
        "id": "view-in-github",
        "colab_type": "text"
      },
      "source": [
        "<a href=\"https://colab.research.google.com/github/Harsh-Chaudhary-IITK/ML_ANN-project/blob/main/ML_Project_Harsh.ipynb\" target=\"_parent\"><img src=\"https://colab.research.google.com/assets/colab-badge.svg\" alt=\"Open In Colab\"/></a>"
      ]
    },
    {
      "cell_type": "code",
      "execution_count": null,
      "metadata": {
        "colab": {
          "base_uri": "https://localhost:8080/"
        },
        "id": "Y98B8JVuLf3A",
        "outputId": "bab96030-768e-4329-fe35-3ca3d895253d"
      },
      "outputs": [
        {
          "output_type": "stream",
          "name": "stdout",
          "text": [
            "Drive already mounted at /content/drive; to attempt to forcibly remount, call drive.mount(\"/content/drive\", force_remount=True).\n"
          ]
        }
      ],
      "source": [
        "from google.colab import drive\n",
        "drive.mount('/content/drive')"
      ]
    },
    {
      "cell_type": "code",
      "source": [
        "import nltk\n",
        "nltk.download('stopwords')"
      ],
      "metadata": {
        "colab": {
          "base_uri": "https://localhost:8080/"
        },
        "id": "107J6IXUNSS-",
        "outputId": "020ac34d-16c1-4f64-b33a-400838edfe48"
      },
      "execution_count": null,
      "outputs": [
        {
          "output_type": "stream",
          "name": "stderr",
          "text": [
            "[nltk_data] Downloading package stopwords to /root/nltk_data...\n",
            "[nltk_data]   Unzipping corpora/stopwords.zip.\n"
          ]
        },
        {
          "output_type": "execute_result",
          "data": {
            "text/plain": [
              "True"
            ]
          },
          "metadata": {},
          "execution_count": 2
        }
      ]
    },
    {
      "cell_type": "code",
      "source": [
        "!pip install np_utils"
      ],
      "metadata": {
        "colab": {
          "base_uri": "https://localhost:8080/"
        },
        "id": "tjGLiDCY6HqA",
        "outputId": "f74c7ffd-1f3d-43c6-fa5c-479a7d5531cb"
      },
      "execution_count": null,
      "outputs": [
        {
          "output_type": "stream",
          "name": "stdout",
          "text": [
            "Looking in indexes: https://pypi.org/simple, https://us-python.pkg.dev/colab-wheels/public/simple/\n",
            "Collecting np_utils\n",
            "  Downloading np_utils-0.6.0.tar.gz (61 kB)\n",
            "\u001b[K     |████████████████████████████████| 61 kB 484 kB/s \n",
            "\u001b[?25hRequirement already satisfied: numpy>=1.0 in /usr/local/lib/python3.7/dist-packages (from np_utils) (1.21.6)\n",
            "Building wheels for collected packages: np-utils\n",
            "  Building wheel for np-utils (setup.py) ... \u001b[?25l\u001b[?25hdone\n",
            "  Created wheel for np-utils: filename=np_utils-0.6.0-py3-none-any.whl size=56459 sha256=b942efe5c26e501b5ca2dd1a2562a8fe3336bf5d56ae84d2b56caf53fbe81116\n",
            "  Stored in directory: /root/.cache/pip/wheels/d2/83/71/a781667865955ae7dc18e5a4038401deb56d96eb85d3a5f1c0\n",
            "Successfully built np-utils\n",
            "Installing collected packages: np-utils\n",
            "Successfully installed np-utils-0.6.0\n"
          ]
        }
      ]
    },
    {
      "cell_type": "code",
      "source": [
        "import numpy as np\n",
        "import pandas as pd\n",
        "from plotly.offline import iplot\n",
        "import matplotlib.pyplot as plt\n",
        "import seaborn as sns\n",
        "from tensorflow.keras.preprocessing.text import Tokenizer\n",
        "from tensorflow.keras.preprocessing.sequence import pad_sequences\n",
        "from tensorflow.keras.models import Sequential\n",
        "from tensorflow.keras.layers import Dense, Embedding, LSTM, SpatialDropout1D\n",
        "from sklearn.model_selection import train_test_split\n",
        "from keras.utils.np_utils import to_categorical\n",
        "from tensorflow.keras.callbacks import EarlyStopping\n",
        "from tensorflow.keras.layers import Dropout\n",
        "import re\n",
        "from nltk.corpus import stopwords\n",
        "from nltk import word_tokenize\n",
        "STOPWORDS = set(stopwords.words('english'))"
      ],
      "metadata": {
        "id": "6NOmFs1U6Zil"
      },
      "execution_count": null,
      "outputs": []
    },
    {
      "cell_type": "code",
      "source": [
        "df = pd.read_csv(\"/content/drive/MyDrive/ML project/final_data2.csv\")\n",
        "# df.fillna(\"\",inplace=True)"
      ],
      "metadata": {
        "id": "_cEinJmzxxT4"
      },
      "execution_count": null,
      "outputs": []
    },
    {
      "cell_type": "code",
      "source": [
        "df.columns\n"
      ],
      "metadata": {
        "colab": {
          "base_uri": "https://localhost:8080/"
        },
        "id": "2hVOWE5R6zDQ",
        "outputId": "cae21428-043a-46b8-b079-fabad9007b49"
      },
      "execution_count": null,
      "outputs": [
        {
          "output_type": "execute_result",
          "data": {
            "text/plain": [
              "Index(['Benefits', 'Contraindication', 'Yoga Asan'], dtype='object')"
            ]
          },
          "metadata": {},
          "execution_count": 6
        }
      ]
    },
    {
      "cell_type": "code",
      "source": [
        "df=df.dropna()"
      ],
      "metadata": {
        "id": "VuszIbkaRd4B"
      },
      "execution_count": null,
      "outputs": []
    },
    {
      "cell_type": "code",
      "source": [
        "df.reset_index()"
      ],
      "metadata": {
        "colab": {
          "base_uri": "https://localhost:8080/",
          "height": 424
        },
        "id": "2MUNPKDWRe5S",
        "outputId": "e690b662-b542-46bb-9dff-5e5776a76650"
      },
      "execution_count": null,
      "outputs": [
        {
          "output_type": "execute_result",
          "data": {
            "text/plain": [
              "     index                                           Benefits  \\\n",
              "0        0  Corrects bad posture by straightening the spin...   \n",
              "1        1  Relieves gastritis indigestion acidity and fla...   \n",
              "2        2  Improves breathing capacity by expanding the c...   \n",
              "3        3  Enhances lung capacity , Tones the muscles of ...   \n",
              "4        4  Cools the brain and soothes the nerves, Reliev...   \n",
              "..     ...                                                ...   \n",
              "507    583  Strengthens core, arms, shoulders, elbows and ...   \n",
              "508    584  Strengthens core, arms, and shoulders. Improve...   \n",
              "509    585                     Strengthens the core and arms.   \n",
              "510    586  Stretches the entire front body and opens the ...   \n",
              "511    587                  Stretches the shoulders and spine   \n",
              "\n",
              "                                      Contraindication  \\\n",
              "0                      If you have Parkinson’s disease   \n",
              "1             If you are prone to dizzy spells vertigo   \n",
              "2    Do not practise if you have a cardiac conditio...   \n",
              "3    If you have high blood pressure avoid this asa...   \n",
              "4                      If you have high blood pressure   \n",
              "..                                                 ...   \n",
              "507                          Hips,Knees,Shoulders,Back   \n",
              "508                   Hips,Knees,Shoulders,Back Injury   \n",
              "509                              Shoulders,Hips,Wrists   \n",
              "510                             Arms,Hips,Knees Injury   \n",
              "511                 Pregnancy,Menstruation,Back Issues   \n",
              "\n",
              "                       Yoga Asan  \n",
              "0                       TADASANA  \n",
              "1            UTTHITA TRIKONASANA  \n",
              "2               VIRABHADRASANA 2  \n",
              "3         UTTHITA PARSVAKONASANA  \n",
              "4                PARSVOTTANASANA  \n",
              "..                           ...  \n",
              "507                  Kukkutasana  \n",
              "508                Karandavasana  \n",
              "509                     Lolasana  \n",
              "510  Dvi Pada Viparita Dandasana  \n",
              "511               Supta Konasana  \n",
              "\n",
              "[512 rows x 4 columns]"
            ],
            "text/html": [
              "\n",
              "  <div id=\"df-ee8cec3a-3acf-4cad-9df2-e60a91f2f486\">\n",
              "    <div class=\"colab-df-container\">\n",
              "      <div>\n",
              "<style scoped>\n",
              "    .dataframe tbody tr th:only-of-type {\n",
              "        vertical-align: middle;\n",
              "    }\n",
              "\n",
              "    .dataframe tbody tr th {\n",
              "        vertical-align: top;\n",
              "    }\n",
              "\n",
              "    .dataframe thead th {\n",
              "        text-align: right;\n",
              "    }\n",
              "</style>\n",
              "<table border=\"1\" class=\"dataframe\">\n",
              "  <thead>\n",
              "    <tr style=\"text-align: right;\">\n",
              "      <th></th>\n",
              "      <th>index</th>\n",
              "      <th>Benefits</th>\n",
              "      <th>Contraindication</th>\n",
              "      <th>Yoga Asan</th>\n",
              "    </tr>\n",
              "  </thead>\n",
              "  <tbody>\n",
              "    <tr>\n",
              "      <th>0</th>\n",
              "      <td>0</td>\n",
              "      <td>Corrects bad posture by straightening the spin...</td>\n",
              "      <td>If you have Parkinson’s disease</td>\n",
              "      <td>TADASANA</td>\n",
              "    </tr>\n",
              "    <tr>\n",
              "      <th>1</th>\n",
              "      <td>1</td>\n",
              "      <td>Relieves gastritis indigestion acidity and fla...</td>\n",
              "      <td>If you are prone to dizzy spells vertigo</td>\n",
              "      <td>UTTHITA TRIKONASANA</td>\n",
              "    </tr>\n",
              "    <tr>\n",
              "      <th>2</th>\n",
              "      <td>2</td>\n",
              "      <td>Improves breathing capacity by expanding the c...</td>\n",
              "      <td>Do not practise if you have a cardiac conditio...</td>\n",
              "      <td>VIRABHADRASANA 2</td>\n",
              "    </tr>\n",
              "    <tr>\n",
              "      <th>3</th>\n",
              "      <td>3</td>\n",
              "      <td>Enhances lung capacity , Tones the muscles of ...</td>\n",
              "      <td>If you have high blood pressure avoid this asa...</td>\n",
              "      <td>UTTHITA PARSVAKONASANA</td>\n",
              "    </tr>\n",
              "    <tr>\n",
              "      <th>4</th>\n",
              "      <td>4</td>\n",
              "      <td>Cools the brain and soothes the nerves, Reliev...</td>\n",
              "      <td>If you have high blood pressure</td>\n",
              "      <td>PARSVOTTANASANA</td>\n",
              "    </tr>\n",
              "    <tr>\n",
              "      <th>...</th>\n",
              "      <td>...</td>\n",
              "      <td>...</td>\n",
              "      <td>...</td>\n",
              "      <td>...</td>\n",
              "    </tr>\n",
              "    <tr>\n",
              "      <th>507</th>\n",
              "      <td>583</td>\n",
              "      <td>Strengthens core, arms, shoulders, elbows and ...</td>\n",
              "      <td>Hips,Knees,Shoulders,Back</td>\n",
              "      <td>Kukkutasana</td>\n",
              "    </tr>\n",
              "    <tr>\n",
              "      <th>508</th>\n",
              "      <td>584</td>\n",
              "      <td>Strengthens core, arms, and shoulders. Improve...</td>\n",
              "      <td>Hips,Knees,Shoulders,Back Injury</td>\n",
              "      <td>Karandavasana</td>\n",
              "    </tr>\n",
              "    <tr>\n",
              "      <th>509</th>\n",
              "      <td>585</td>\n",
              "      <td>Strengthens the core and arms.</td>\n",
              "      <td>Shoulders,Hips,Wrists</td>\n",
              "      <td>Lolasana</td>\n",
              "    </tr>\n",
              "    <tr>\n",
              "      <th>510</th>\n",
              "      <td>586</td>\n",
              "      <td>Stretches the entire front body and opens the ...</td>\n",
              "      <td>Arms,Hips,Knees Injury</td>\n",
              "      <td>Dvi Pada Viparita Dandasana</td>\n",
              "    </tr>\n",
              "    <tr>\n",
              "      <th>511</th>\n",
              "      <td>587</td>\n",
              "      <td>Stretches the shoulders and spine</td>\n",
              "      <td>Pregnancy,Menstruation,Back Issues</td>\n",
              "      <td>Supta Konasana</td>\n",
              "    </tr>\n",
              "  </tbody>\n",
              "</table>\n",
              "<p>512 rows × 4 columns</p>\n",
              "</div>\n",
              "      <button class=\"colab-df-convert\" onclick=\"convertToInteractive('df-ee8cec3a-3acf-4cad-9df2-e60a91f2f486')\"\n",
              "              title=\"Convert this dataframe to an interactive table.\"\n",
              "              style=\"display:none;\">\n",
              "        \n",
              "  <svg xmlns=\"http://www.w3.org/2000/svg\" height=\"24px\"viewBox=\"0 0 24 24\"\n",
              "       width=\"24px\">\n",
              "    <path d=\"M0 0h24v24H0V0z\" fill=\"none\"/>\n",
              "    <path d=\"M18.56 5.44l.94 2.06.94-2.06 2.06-.94-2.06-.94-.94-2.06-.94 2.06-2.06.94zm-11 1L8.5 8.5l.94-2.06 2.06-.94-2.06-.94L8.5 2.5l-.94 2.06-2.06.94zm10 10l.94 2.06.94-2.06 2.06-.94-2.06-.94-.94-2.06-.94 2.06-2.06.94z\"/><path d=\"M17.41 7.96l-1.37-1.37c-.4-.4-.92-.59-1.43-.59-.52 0-1.04.2-1.43.59L10.3 9.45l-7.72 7.72c-.78.78-.78 2.05 0 2.83L4 21.41c.39.39.9.59 1.41.59.51 0 1.02-.2 1.41-.59l7.78-7.78 2.81-2.81c.8-.78.8-2.07 0-2.86zM5.41 20L4 18.59l7.72-7.72 1.47 1.35L5.41 20z\"/>\n",
              "  </svg>\n",
              "      </button>\n",
              "      \n",
              "  <style>\n",
              "    .colab-df-container {\n",
              "      display:flex;\n",
              "      flex-wrap:wrap;\n",
              "      gap: 12px;\n",
              "    }\n",
              "\n",
              "    .colab-df-convert {\n",
              "      background-color: #E8F0FE;\n",
              "      border: none;\n",
              "      border-radius: 50%;\n",
              "      cursor: pointer;\n",
              "      display: none;\n",
              "      fill: #1967D2;\n",
              "      height: 32px;\n",
              "      padding: 0 0 0 0;\n",
              "      width: 32px;\n",
              "    }\n",
              "\n",
              "    .colab-df-convert:hover {\n",
              "      background-color: #E2EBFA;\n",
              "      box-shadow: 0px 1px 2px rgba(60, 64, 67, 0.3), 0px 1px 3px 1px rgba(60, 64, 67, 0.15);\n",
              "      fill: #174EA6;\n",
              "    }\n",
              "\n",
              "    [theme=dark] .colab-df-convert {\n",
              "      background-color: #3B4455;\n",
              "      fill: #D2E3FC;\n",
              "    }\n",
              "\n",
              "    [theme=dark] .colab-df-convert:hover {\n",
              "      background-color: #434B5C;\n",
              "      box-shadow: 0px 1px 3px 1px rgba(0, 0, 0, 0.15);\n",
              "      filter: drop-shadow(0px 1px 2px rgba(0, 0, 0, 0.3));\n",
              "      fill: #FFFFFF;\n",
              "    }\n",
              "  </style>\n",
              "\n",
              "      <script>\n",
              "        const buttonEl =\n",
              "          document.querySelector('#df-ee8cec3a-3acf-4cad-9df2-e60a91f2f486 button.colab-df-convert');\n",
              "        buttonEl.style.display =\n",
              "          google.colab.kernel.accessAllowed ? 'block' : 'none';\n",
              "\n",
              "        async function convertToInteractive(key) {\n",
              "          const element = document.querySelector('#df-ee8cec3a-3acf-4cad-9df2-e60a91f2f486');\n",
              "          const dataTable =\n",
              "            await google.colab.kernel.invokeFunction('convertToInteractive',\n",
              "                                                     [key], {});\n",
              "          if (!dataTable) return;\n",
              "\n",
              "          const docLinkHtml = 'Like what you see? Visit the ' +\n",
              "            '<a target=\"_blank\" href=https://colab.research.google.com/notebooks/data_table.ipynb>data table notebook</a>'\n",
              "            + ' to learn more about interactive tables.';\n",
              "          element.innerHTML = '';\n",
              "          dataTable['output_type'] = 'display_data';\n",
              "          await google.colab.output.renderOutput(dataTable, element);\n",
              "          const docLink = document.createElement('div');\n",
              "          docLink.innerHTML = docLinkHtml;\n",
              "          element.appendChild(docLink);\n",
              "        }\n",
              "      </script>\n",
              "    </div>\n",
              "  </div>\n",
              "  "
            ]
          },
          "metadata": {},
          "execution_count": 8
        }
      ]
    },
    {
      "cell_type": "code",
      "source": [
        "x1='Benefits'\n",
        "x2='Yoga Asan'"
      ],
      "metadata": {
        "id": "0SiwgibS-SLG"
      },
      "execution_count": null,
      "outputs": []
    },
    {
      "cell_type": "code",
      "source": [
        "data = df[[x1,x2]]\n",
        "data = data.dropna()\n",
        "data=data.reset_index()\n",
        "# df.fillna(\"\",inplace=True)\n",
        "data"
      ],
      "metadata": {
        "colab": {
          "base_uri": "https://localhost:8080/",
          "height": 424
        },
        "id": "ZL2pkmo6-HXk",
        "outputId": "375ad49f-f4bc-49be-84ee-83c7191e7db1"
      },
      "execution_count": null,
      "outputs": [
        {
          "output_type": "execute_result",
          "data": {
            "text/plain": [
              "     index                                           Benefits  \\\n",
              "0        0  Corrects bad posture by straightening the spin...   \n",
              "1        1  Relieves gastritis indigestion acidity and fla...   \n",
              "2        2  Improves breathing capacity by expanding the c...   \n",
              "3        3  Enhances lung capacity , Tones the muscles of ...   \n",
              "4        4  Cools the brain and soothes the nerves, Reliev...   \n",
              "..     ...                                                ...   \n",
              "507    583  Strengthens core, arms, shoulders, elbows and ...   \n",
              "508    584  Strengthens core, arms, and shoulders. Improve...   \n",
              "509    585                     Strengthens the core and arms.   \n",
              "510    586  Stretches the entire front body and opens the ...   \n",
              "511    587                  Stretches the shoulders and spine   \n",
              "\n",
              "                       Yoga Asan  \n",
              "0                       TADASANA  \n",
              "1            UTTHITA TRIKONASANA  \n",
              "2               VIRABHADRASANA 2  \n",
              "3         UTTHITA PARSVAKONASANA  \n",
              "4                PARSVOTTANASANA  \n",
              "..                           ...  \n",
              "507                  Kukkutasana  \n",
              "508                Karandavasana  \n",
              "509                     Lolasana  \n",
              "510  Dvi Pada Viparita Dandasana  \n",
              "511               Supta Konasana  \n",
              "\n",
              "[512 rows x 3 columns]"
            ],
            "text/html": [
              "\n",
              "  <div id=\"df-a0011cdb-4367-441a-9205-8802e96af2e7\">\n",
              "    <div class=\"colab-df-container\">\n",
              "      <div>\n",
              "<style scoped>\n",
              "    .dataframe tbody tr th:only-of-type {\n",
              "        vertical-align: middle;\n",
              "    }\n",
              "\n",
              "    .dataframe tbody tr th {\n",
              "        vertical-align: top;\n",
              "    }\n",
              "\n",
              "    .dataframe thead th {\n",
              "        text-align: right;\n",
              "    }\n",
              "</style>\n",
              "<table border=\"1\" class=\"dataframe\">\n",
              "  <thead>\n",
              "    <tr style=\"text-align: right;\">\n",
              "      <th></th>\n",
              "      <th>index</th>\n",
              "      <th>Benefits</th>\n",
              "      <th>Yoga Asan</th>\n",
              "    </tr>\n",
              "  </thead>\n",
              "  <tbody>\n",
              "    <tr>\n",
              "      <th>0</th>\n",
              "      <td>0</td>\n",
              "      <td>Corrects bad posture by straightening the spin...</td>\n",
              "      <td>TADASANA</td>\n",
              "    </tr>\n",
              "    <tr>\n",
              "      <th>1</th>\n",
              "      <td>1</td>\n",
              "      <td>Relieves gastritis indigestion acidity and fla...</td>\n",
              "      <td>UTTHITA TRIKONASANA</td>\n",
              "    </tr>\n",
              "    <tr>\n",
              "      <th>2</th>\n",
              "      <td>2</td>\n",
              "      <td>Improves breathing capacity by expanding the c...</td>\n",
              "      <td>VIRABHADRASANA 2</td>\n",
              "    </tr>\n",
              "    <tr>\n",
              "      <th>3</th>\n",
              "      <td>3</td>\n",
              "      <td>Enhances lung capacity , Tones the muscles of ...</td>\n",
              "      <td>UTTHITA PARSVAKONASANA</td>\n",
              "    </tr>\n",
              "    <tr>\n",
              "      <th>4</th>\n",
              "      <td>4</td>\n",
              "      <td>Cools the brain and soothes the nerves, Reliev...</td>\n",
              "      <td>PARSVOTTANASANA</td>\n",
              "    </tr>\n",
              "    <tr>\n",
              "      <th>...</th>\n",
              "      <td>...</td>\n",
              "      <td>...</td>\n",
              "      <td>...</td>\n",
              "    </tr>\n",
              "    <tr>\n",
              "      <th>507</th>\n",
              "      <td>583</td>\n",
              "      <td>Strengthens core, arms, shoulders, elbows and ...</td>\n",
              "      <td>Kukkutasana</td>\n",
              "    </tr>\n",
              "    <tr>\n",
              "      <th>508</th>\n",
              "      <td>584</td>\n",
              "      <td>Strengthens core, arms, and shoulders. Improve...</td>\n",
              "      <td>Karandavasana</td>\n",
              "    </tr>\n",
              "    <tr>\n",
              "      <th>509</th>\n",
              "      <td>585</td>\n",
              "      <td>Strengthens the core and arms.</td>\n",
              "      <td>Lolasana</td>\n",
              "    </tr>\n",
              "    <tr>\n",
              "      <th>510</th>\n",
              "      <td>586</td>\n",
              "      <td>Stretches the entire front body and opens the ...</td>\n",
              "      <td>Dvi Pada Viparita Dandasana</td>\n",
              "    </tr>\n",
              "    <tr>\n",
              "      <th>511</th>\n",
              "      <td>587</td>\n",
              "      <td>Stretches the shoulders and spine</td>\n",
              "      <td>Supta Konasana</td>\n",
              "    </tr>\n",
              "  </tbody>\n",
              "</table>\n",
              "<p>512 rows × 3 columns</p>\n",
              "</div>\n",
              "      <button class=\"colab-df-convert\" onclick=\"convertToInteractive('df-a0011cdb-4367-441a-9205-8802e96af2e7')\"\n",
              "              title=\"Convert this dataframe to an interactive table.\"\n",
              "              style=\"display:none;\">\n",
              "        \n",
              "  <svg xmlns=\"http://www.w3.org/2000/svg\" height=\"24px\"viewBox=\"0 0 24 24\"\n",
              "       width=\"24px\">\n",
              "    <path d=\"M0 0h24v24H0V0z\" fill=\"none\"/>\n",
              "    <path d=\"M18.56 5.44l.94 2.06.94-2.06 2.06-.94-2.06-.94-.94-2.06-.94 2.06-2.06.94zm-11 1L8.5 8.5l.94-2.06 2.06-.94-2.06-.94L8.5 2.5l-.94 2.06-2.06.94zm10 10l.94 2.06.94-2.06 2.06-.94-2.06-.94-.94-2.06-.94 2.06-2.06.94z\"/><path d=\"M17.41 7.96l-1.37-1.37c-.4-.4-.92-.59-1.43-.59-.52 0-1.04.2-1.43.59L10.3 9.45l-7.72 7.72c-.78.78-.78 2.05 0 2.83L4 21.41c.39.39.9.59 1.41.59.51 0 1.02-.2 1.41-.59l7.78-7.78 2.81-2.81c.8-.78.8-2.07 0-2.86zM5.41 20L4 18.59l7.72-7.72 1.47 1.35L5.41 20z\"/>\n",
              "  </svg>\n",
              "      </button>\n",
              "      \n",
              "  <style>\n",
              "    .colab-df-container {\n",
              "      display:flex;\n",
              "      flex-wrap:wrap;\n",
              "      gap: 12px;\n",
              "    }\n",
              "\n",
              "    .colab-df-convert {\n",
              "      background-color: #E8F0FE;\n",
              "      border: none;\n",
              "      border-radius: 50%;\n",
              "      cursor: pointer;\n",
              "      display: none;\n",
              "      fill: #1967D2;\n",
              "      height: 32px;\n",
              "      padding: 0 0 0 0;\n",
              "      width: 32px;\n",
              "    }\n",
              "\n",
              "    .colab-df-convert:hover {\n",
              "      background-color: #E2EBFA;\n",
              "      box-shadow: 0px 1px 2px rgba(60, 64, 67, 0.3), 0px 1px 3px 1px rgba(60, 64, 67, 0.15);\n",
              "      fill: #174EA6;\n",
              "    }\n",
              "\n",
              "    [theme=dark] .colab-df-convert {\n",
              "      background-color: #3B4455;\n",
              "      fill: #D2E3FC;\n",
              "    }\n",
              "\n",
              "    [theme=dark] .colab-df-convert:hover {\n",
              "      background-color: #434B5C;\n",
              "      box-shadow: 0px 1px 3px 1px rgba(0, 0, 0, 0.15);\n",
              "      filter: drop-shadow(0px 1px 2px rgba(0, 0, 0, 0.3));\n",
              "      fill: #FFFFFF;\n",
              "    }\n",
              "  </style>\n",
              "\n",
              "      <script>\n",
              "        const buttonEl =\n",
              "          document.querySelector('#df-a0011cdb-4367-441a-9205-8802e96af2e7 button.colab-df-convert');\n",
              "        buttonEl.style.display =\n",
              "          google.colab.kernel.accessAllowed ? 'block' : 'none';\n",
              "\n",
              "        async function convertToInteractive(key) {\n",
              "          const element = document.querySelector('#df-a0011cdb-4367-441a-9205-8802e96af2e7');\n",
              "          const dataTable =\n",
              "            await google.colab.kernel.invokeFunction('convertToInteractive',\n",
              "                                                     [key], {});\n",
              "          if (!dataTable) return;\n",
              "\n",
              "          const docLinkHtml = 'Like what you see? Visit the ' +\n",
              "            '<a target=\"_blank\" href=https://colab.research.google.com/notebooks/data_table.ipynb>data table notebook</a>'\n",
              "            + ' to learn more about interactive tables.';\n",
              "          element.innerHTML = '';\n",
              "          dataTable['output_type'] = 'display_data';\n",
              "          await google.colab.output.renderOutput(dataTable, element);\n",
              "          const docLink = document.createElement('div');\n",
              "          docLink.innerHTML = docLinkHtml;\n",
              "          element.appendChild(docLink);\n",
              "        }\n",
              "      </script>\n",
              "    </div>\n",
              "  </div>\n",
              "  "
            ]
          },
          "metadata": {},
          "execution_count": 10
        }
      ]
    },
    {
      "cell_type": "code",
      "source": [
        "data.shape    "
      ],
      "metadata": {
        "colab": {
          "base_uri": "https://localhost:8080/"
        },
        "id": "Kwba7Lit7DNS",
        "outputId": "66208643-5044-47f3-9652-55ca5edc4be5"
      },
      "execution_count": null,
      "outputs": [
        {
          "output_type": "execute_result",
          "data": {
            "text/plain": [
              "(512, 3)"
            ]
          },
          "metadata": {},
          "execution_count": 11
        }
      ]
    },
    {
      "cell_type": "code",
      "source": [
        "data.dtypes"
      ],
      "metadata": {
        "colab": {
          "base_uri": "https://localhost:8080/"
        },
        "id": "NLl1XMla7K0F",
        "outputId": "9c25ae39-f8f4-4d77-cf75-4aa7988180a0"
      },
      "execution_count": null,
      "outputs": [
        {
          "output_type": "execute_result",
          "data": {
            "text/plain": [
              "index         int64\n",
              "Benefits     object\n",
              "Yoga Asan    object\n",
              "dtype: object"
            ]
          },
          "metadata": {},
          "execution_count": 12
        }
      ]
    },
    {
      "cell_type": "code",
      "source": [
        "  data[x2].value_counts()"
      ],
      "metadata": {
        "colab": {
          "base_uri": "https://localhost:8080/"
        },
        "id": "XnIj9s7q7K3M",
        "outputId": "49bd088c-f6d3-41fb-aa3a-be4cf5d702e7"
      },
      "execution_count": null,
      "outputs": [
        {
          "output_type": "execute_result",
          "data": {
            "text/plain": [
              "Karnapidasana              4\n",
              "BHARADVAJASANA             4\n",
              "Bhekasana                  3\n",
              "Padmasana                  3\n",
              "Jathara Parivartanasana    3\n",
              "                          ..\n",
              "Murcha Pranayama           1\n",
              "Sitali                     1\n",
              "Simhasana\\n                1\n",
              "Virasana                   1\n",
              "Supta Konasana             1\n",
              "Name: Yoga Asan, Length: 429, dtype: int64"
            ]
          },
          "metadata": {},
          "execution_count": 13
        }
      ]
    },
    {
      "cell_type": "code",
      "source": [
        "data.head()"
      ],
      "metadata": {
        "colab": {
          "base_uri": "https://localhost:8080/",
          "height": 206
        },
        "id": "YuoUi7Ey7K6L",
        "outputId": "e831dc26-12ab-4200-b716-38179a10a963"
      },
      "execution_count": null,
      "outputs": [
        {
          "output_type": "execute_result",
          "data": {
            "text/plain": [
              "   index                                           Benefits  \\\n",
              "0      0  Corrects bad posture by straightening the spin...   \n",
              "1      1  Relieves gastritis indigestion acidity and fla...   \n",
              "2      2  Improves breathing capacity by expanding the c...   \n",
              "3      3  Enhances lung capacity , Tones the muscles of ...   \n",
              "4      4  Cools the brain and soothes the nerves, Reliev...   \n",
              "\n",
              "                Yoga Asan  \n",
              "0                TADASANA  \n",
              "1     UTTHITA TRIKONASANA  \n",
              "2        VIRABHADRASANA 2  \n",
              "3  UTTHITA PARSVAKONASANA  \n",
              "4         PARSVOTTANASANA  "
            ],
            "text/html": [
              "\n",
              "  <div id=\"df-c1f24458-ae9f-40e4-8c18-8a34bd495ba1\">\n",
              "    <div class=\"colab-df-container\">\n",
              "      <div>\n",
              "<style scoped>\n",
              "    .dataframe tbody tr th:only-of-type {\n",
              "        vertical-align: middle;\n",
              "    }\n",
              "\n",
              "    .dataframe tbody tr th {\n",
              "        vertical-align: top;\n",
              "    }\n",
              "\n",
              "    .dataframe thead th {\n",
              "        text-align: right;\n",
              "    }\n",
              "</style>\n",
              "<table border=\"1\" class=\"dataframe\">\n",
              "  <thead>\n",
              "    <tr style=\"text-align: right;\">\n",
              "      <th></th>\n",
              "      <th>index</th>\n",
              "      <th>Benefits</th>\n",
              "      <th>Yoga Asan</th>\n",
              "    </tr>\n",
              "  </thead>\n",
              "  <tbody>\n",
              "    <tr>\n",
              "      <th>0</th>\n",
              "      <td>0</td>\n",
              "      <td>Corrects bad posture by straightening the spin...</td>\n",
              "      <td>TADASANA</td>\n",
              "    </tr>\n",
              "    <tr>\n",
              "      <th>1</th>\n",
              "      <td>1</td>\n",
              "      <td>Relieves gastritis indigestion acidity and fla...</td>\n",
              "      <td>UTTHITA TRIKONASANA</td>\n",
              "    </tr>\n",
              "    <tr>\n",
              "      <th>2</th>\n",
              "      <td>2</td>\n",
              "      <td>Improves breathing capacity by expanding the c...</td>\n",
              "      <td>VIRABHADRASANA 2</td>\n",
              "    </tr>\n",
              "    <tr>\n",
              "      <th>3</th>\n",
              "      <td>3</td>\n",
              "      <td>Enhances lung capacity , Tones the muscles of ...</td>\n",
              "      <td>UTTHITA PARSVAKONASANA</td>\n",
              "    </tr>\n",
              "    <tr>\n",
              "      <th>4</th>\n",
              "      <td>4</td>\n",
              "      <td>Cools the brain and soothes the nerves, Reliev...</td>\n",
              "      <td>PARSVOTTANASANA</td>\n",
              "    </tr>\n",
              "  </tbody>\n",
              "</table>\n",
              "</div>\n",
              "      <button class=\"colab-df-convert\" onclick=\"convertToInteractive('df-c1f24458-ae9f-40e4-8c18-8a34bd495ba1')\"\n",
              "              title=\"Convert this dataframe to an interactive table.\"\n",
              "              style=\"display:none;\">\n",
              "        \n",
              "  <svg xmlns=\"http://www.w3.org/2000/svg\" height=\"24px\"viewBox=\"0 0 24 24\"\n",
              "       width=\"24px\">\n",
              "    <path d=\"M0 0h24v24H0V0z\" fill=\"none\"/>\n",
              "    <path d=\"M18.56 5.44l.94 2.06.94-2.06 2.06-.94-2.06-.94-.94-2.06-.94 2.06-2.06.94zm-11 1L8.5 8.5l.94-2.06 2.06-.94-2.06-.94L8.5 2.5l-.94 2.06-2.06.94zm10 10l.94 2.06.94-2.06 2.06-.94-2.06-.94-.94-2.06-.94 2.06-2.06.94z\"/><path d=\"M17.41 7.96l-1.37-1.37c-.4-.4-.92-.59-1.43-.59-.52 0-1.04.2-1.43.59L10.3 9.45l-7.72 7.72c-.78.78-.78 2.05 0 2.83L4 21.41c.39.39.9.59 1.41.59.51 0 1.02-.2 1.41-.59l7.78-7.78 2.81-2.81c.8-.78.8-2.07 0-2.86zM5.41 20L4 18.59l7.72-7.72 1.47 1.35L5.41 20z\"/>\n",
              "  </svg>\n",
              "      </button>\n",
              "      \n",
              "  <style>\n",
              "    .colab-df-container {\n",
              "      display:flex;\n",
              "      flex-wrap:wrap;\n",
              "      gap: 12px;\n",
              "    }\n",
              "\n",
              "    .colab-df-convert {\n",
              "      background-color: #E8F0FE;\n",
              "      border: none;\n",
              "      border-radius: 50%;\n",
              "      cursor: pointer;\n",
              "      display: none;\n",
              "      fill: #1967D2;\n",
              "      height: 32px;\n",
              "      padding: 0 0 0 0;\n",
              "      width: 32px;\n",
              "    }\n",
              "\n",
              "    .colab-df-convert:hover {\n",
              "      background-color: #E2EBFA;\n",
              "      box-shadow: 0px 1px 2px rgba(60, 64, 67, 0.3), 0px 1px 3px 1px rgba(60, 64, 67, 0.15);\n",
              "      fill: #174EA6;\n",
              "    }\n",
              "\n",
              "    [theme=dark] .colab-df-convert {\n",
              "      background-color: #3B4455;\n",
              "      fill: #D2E3FC;\n",
              "    }\n",
              "\n",
              "    [theme=dark] .colab-df-convert:hover {\n",
              "      background-color: #434B5C;\n",
              "      box-shadow: 0px 1px 3px 1px rgba(0, 0, 0, 0.15);\n",
              "      filter: drop-shadow(0px 1px 2px rgba(0, 0, 0, 0.3));\n",
              "      fill: #FFFFFF;\n",
              "    }\n",
              "  </style>\n",
              "\n",
              "      <script>\n",
              "        const buttonEl =\n",
              "          document.querySelector('#df-c1f24458-ae9f-40e4-8c18-8a34bd495ba1 button.colab-df-convert');\n",
              "        buttonEl.style.display =\n",
              "          google.colab.kernel.accessAllowed ? 'block' : 'none';\n",
              "\n",
              "        async function convertToInteractive(key) {\n",
              "          const element = document.querySelector('#df-c1f24458-ae9f-40e4-8c18-8a34bd495ba1');\n",
              "          const dataTable =\n",
              "            await google.colab.kernel.invokeFunction('convertToInteractive',\n",
              "                                                     [key], {});\n",
              "          if (!dataTable) return;\n",
              "\n",
              "          const docLinkHtml = 'Like what you see? Visit the ' +\n",
              "            '<a target=\"_blank\" href=https://colab.research.google.com/notebooks/data_table.ipynb>data table notebook</a>'\n",
              "            + ' to learn more about interactive tables.';\n",
              "          element.innerHTML = '';\n",
              "          dataTable['output_type'] = 'display_data';\n",
              "          await google.colab.output.renderOutput(dataTable, element);\n",
              "          const docLink = document.createElement('div');\n",
              "          docLink.innerHTML = docLinkHtml;\n",
              "          element.appendChild(docLink);\n",
              "        }\n",
              "      </script>\n",
              "    </div>\n",
              "  </div>\n",
              "  "
            ]
          },
          "metadata": {},
          "execution_count": 14
        }
      ]
    },
    {
      "cell_type": "code",
      "source": [
        "def example_complain(index):\n",
        "    example = data[data.index == index][[x1,x2]].values[0]\n",
        "    if len(example) > 0:\n",
        "        print(example[0])\n",
        "        print()\n",
        "        print('Category:', example[1])"
      ],
      "metadata": {
        "id": "z8ZzfyCu7K8-"
      },
      "execution_count": null,
      "outputs": []
    },
    {
      "cell_type": "code",
      "source": [
        "example_complain(0)"
      ],
      "metadata": {
        "colab": {
          "base_uri": "https://localhost:8080/"
        },
        "id": "7GJ-fEqZ7K_P",
        "outputId": "fa07e95c-26dc-44c5-93bd-04c0de7915ca"
      },
      "execution_count": null,
      "outputs": [
        {
          "output_type": "stream",
          "name": "stdout",
          "text": [
            "Corrects bad posture by straightening the spine, Improves the alignment of your body, Counters the degenerative effects of ageing \n",
            "on the spine legs and feet, Tones the buttock muscles\n",
            "\n",
            "Category: TADASANA\n"
          ]
        }
      ]
    },
    {
      "cell_type": "code",
      "source": [
        "data = data.reset_index(drop=True)\n",
        "REPLACE_BY_SPACE_RE = re.compile('[/(){}\\[\\]\\|@,;]')\n",
        "BAD_SYMBOLS_RE = re.compile('[^a-z ]')\n",
        "STOPWORDS = set(stopwords.words('english'))\n",
        "\n",
        "def clean_text(text):\n",
        "    \"\"\"\n",
        "        text: a string\n",
        "        \n",
        "        return: modified initial string\n",
        "    \"\"\"\n",
        "    text = text.lower() # lowercase text\n",
        "    text = REPLACE_BY_SPACE_RE.sub(' ', text) # replace REPLACE_BY_SPACE_RE symbols by space in text. substitute the matched string in REPLACE_BY_SPACE_RE with space.\n",
        "    text = BAD_SYMBOLS_RE.sub('', text) # remove symbols which are in BAD_SYMBOLS_RE from text. substitute the matched string in BAD_SYMBOLS_RE with nothing. \n",
        "    text = text.replace('x', '')\n",
        "#    text = re.sub(r'\\W+', '', text)\n",
        "    text = ' '.join(word for word in text.split() if word not in STOPWORDS) # remove stopwors from text\n",
        "    return text\n",
        "data[x1] = data[x1].apply(clean_text)"
      ],
      "metadata": {
        "id": "7lmgNkWc7LBv"
      },
      "execution_count": null,
      "outputs": []
    },
    {
      "cell_type": "code",
      "source": [
        "REPLACE_BY_SPACE_RE = re.compile('[/(){}\\[\\]\\|@,;]')\n",
        "BAD_SYMBOLS_RE = re.compile('[^a-z ]')\n",
        "STOPWORDS = set(stopwords.words('english'))\n",
        "\n",
        "def clean_text(text):\n",
        "    \"\"\"\n",
        "        text: a string\n",
        "        \n",
        "        return: modified initial string\n",
        "    \"\"\"\n",
        "    text = text.lower() # lowercase text\n",
        "    text = REPLACE_BY_SPACE_RE.sub(' ', text) # replace REPLACE_BY_SPACE_RE symbols by space in text. substitute the matched string in REPLACE_BY_SPACE_RE with space.\n",
        "    text = BAD_SYMBOLS_RE.sub('', text) # remove symbols which are in BAD_SYMBOLS_RE from text. substitute the matched string in BAD_SYMBOLS_RE with nothing. \n",
        "    text = text.replace('x', '')\n",
        "#    text = re.sub(r'\\W+', '', text)\n",
        "    text = ' '.join(word for word in text.split() if word not in STOPWORDS) # remove stopwors from text\n",
        "    return text\n",
        "data[x2] = data[x2].apply(clean_text)\n"
      ],
      "metadata": {
        "id": "6nViaQS1Vq61"
      },
      "execution_count": null,
      "outputs": []
    },
    {
      "cell_type": "code",
      "source": [
        "for i in range(len(data[x2])):\n",
        "  if data[x2][i]==None:\n",
        "    continue\n",
        "  for j in range(len(data[x2])):\n",
        "    if i!=j and data[x2][j]!=None:\n",
        "      if data[x2][i]==data[x2][j]:\n",
        "        data[x1][i]=data[x1][i]+' '+data[x1][j]\n",
        "        data[x1][j]=None;\n",
        "        data[x2][j]=None;\n",
        "        "
      ],
      "metadata": {
        "colab": {
          "base_uri": "https://localhost:8080/"
        },
        "id": "gXbdZ_TIZGWf",
        "outputId": "95ec2c66-b446-4a90-b329-c15e3f2500d7"
      },
      "execution_count": null,
      "outputs": [
        {
          "output_type": "stream",
          "name": "stderr",
          "text": [
            "/usr/local/lib/python3.7/dist-packages/ipykernel_launcher.py:7: SettingWithCopyWarning:\n",
            "\n",
            "\n",
            "A value is trying to be set on a copy of a slice from a DataFrame\n",
            "\n",
            "See the caveats in the documentation: https://pandas.pydata.org/pandas-docs/stable/user_guide/indexing.html#returning-a-view-versus-a-copy\n",
            "\n",
            "/usr/local/lib/python3.7/dist-packages/ipykernel_launcher.py:8: SettingWithCopyWarning:\n",
            "\n",
            "\n",
            "A value is trying to be set on a copy of a slice from a DataFrame\n",
            "\n",
            "See the caveats in the documentation: https://pandas.pydata.org/pandas-docs/stable/user_guide/indexing.html#returning-a-view-versus-a-copy\n",
            "\n",
            "/usr/local/lib/python3.7/dist-packages/ipykernel_launcher.py:9: SettingWithCopyWarning:\n",
            "\n",
            "\n",
            "A value is trying to be set on a copy of a slice from a DataFrame\n",
            "\n",
            "See the caveats in the documentation: https://pandas.pydata.org/pandas-docs/stable/user_guide/indexing.html#returning-a-view-versus-a-copy\n",
            "\n"
          ]
        }
      ]
    },
    {
      "cell_type": "code",
      "source": [
        "data=data.dropna()\n",
        "data = data.reset_index(drop=True)"
      ],
      "metadata": {
        "id": "IYirqTgigIWN"
      },
      "execution_count": null,
      "outputs": []
    },
    {
      "cell_type": "code",
      "source": [
        "data"
      ],
      "metadata": {
        "colab": {
          "base_uri": "https://localhost:8080/",
          "height": 424
        },
        "id": "HcLEBuiUZGn1",
        "outputId": "4d8dbc5e-8a33-44f2-98ea-619db933a595"
      },
      "execution_count": null,
      "outputs": [
        {
          "output_type": "execute_result",
          "data": {
            "text/plain": [
              "     index                                           Benefits  \\\n",
              "0        0  corrects bad posture straightening spine impro...   \n",
              "1        1  relieves gastritis indigestion acidity flatule...   \n",
              "2        2  improves breathing capacity epanding chest hel...   \n",
              "3        3  enhances lung capacity tones muscles heart rel...   \n",
              "4        4  cools brain soothes nerves relieves arthritis ...   \n",
              "..     ...                                                ...   \n",
              "332    579  stretches hip fleors hamstrings quadriceps imp...   \n",
              "333    580  opens lengthens hip fleors quadriceps thoracic...   \n",
              "334    582  improves focus balance stretches shoulders arm...   \n",
              "335    586  stretches entire front body opens chest tones ...   \n",
              "336    587                          stretches shoulders spine   \n",
              "\n",
              "                       Yoga Asan  \n",
              "0                       tadasana  \n",
              "1            utthita trikonasana  \n",
              "2                 virabhadrasana  \n",
              "3         utthita parsvakonasana  \n",
              "4                parsvottanasana  \n",
              "..                           ...  \n",
              "332           uttana pristhasana  \n",
              "333          crooked monkey pose  \n",
              "334                  shayanasana  \n",
              "335  dvi pada viparita dandasana  \n",
              "336               supta konasana  \n",
              "\n",
              "[337 rows x 3 columns]"
            ],
            "text/html": [
              "\n",
              "  <div id=\"df-91a711c6-bf34-4737-9f89-0b0a4f844c89\">\n",
              "    <div class=\"colab-df-container\">\n",
              "      <div>\n",
              "<style scoped>\n",
              "    .dataframe tbody tr th:only-of-type {\n",
              "        vertical-align: middle;\n",
              "    }\n",
              "\n",
              "    .dataframe tbody tr th {\n",
              "        vertical-align: top;\n",
              "    }\n",
              "\n",
              "    .dataframe thead th {\n",
              "        text-align: right;\n",
              "    }\n",
              "</style>\n",
              "<table border=\"1\" class=\"dataframe\">\n",
              "  <thead>\n",
              "    <tr style=\"text-align: right;\">\n",
              "      <th></th>\n",
              "      <th>index</th>\n",
              "      <th>Benefits</th>\n",
              "      <th>Yoga Asan</th>\n",
              "    </tr>\n",
              "  </thead>\n",
              "  <tbody>\n",
              "    <tr>\n",
              "      <th>0</th>\n",
              "      <td>0</td>\n",
              "      <td>corrects bad posture straightening spine impro...</td>\n",
              "      <td>tadasana</td>\n",
              "    </tr>\n",
              "    <tr>\n",
              "      <th>1</th>\n",
              "      <td>1</td>\n",
              "      <td>relieves gastritis indigestion acidity flatule...</td>\n",
              "      <td>utthita trikonasana</td>\n",
              "    </tr>\n",
              "    <tr>\n",
              "      <th>2</th>\n",
              "      <td>2</td>\n",
              "      <td>improves breathing capacity epanding chest hel...</td>\n",
              "      <td>virabhadrasana</td>\n",
              "    </tr>\n",
              "    <tr>\n",
              "      <th>3</th>\n",
              "      <td>3</td>\n",
              "      <td>enhances lung capacity tones muscles heart rel...</td>\n",
              "      <td>utthita parsvakonasana</td>\n",
              "    </tr>\n",
              "    <tr>\n",
              "      <th>4</th>\n",
              "      <td>4</td>\n",
              "      <td>cools brain soothes nerves relieves arthritis ...</td>\n",
              "      <td>parsvottanasana</td>\n",
              "    </tr>\n",
              "    <tr>\n",
              "      <th>...</th>\n",
              "      <td>...</td>\n",
              "      <td>...</td>\n",
              "      <td>...</td>\n",
              "    </tr>\n",
              "    <tr>\n",
              "      <th>332</th>\n",
              "      <td>579</td>\n",
              "      <td>stretches hip fleors hamstrings quadriceps imp...</td>\n",
              "      <td>uttana pristhasana</td>\n",
              "    </tr>\n",
              "    <tr>\n",
              "      <th>333</th>\n",
              "      <td>580</td>\n",
              "      <td>opens lengthens hip fleors quadriceps thoracic...</td>\n",
              "      <td>crooked monkey pose</td>\n",
              "    </tr>\n",
              "    <tr>\n",
              "      <th>334</th>\n",
              "      <td>582</td>\n",
              "      <td>improves focus balance stretches shoulders arm...</td>\n",
              "      <td>shayanasana</td>\n",
              "    </tr>\n",
              "    <tr>\n",
              "      <th>335</th>\n",
              "      <td>586</td>\n",
              "      <td>stretches entire front body opens chest tones ...</td>\n",
              "      <td>dvi pada viparita dandasana</td>\n",
              "    </tr>\n",
              "    <tr>\n",
              "      <th>336</th>\n",
              "      <td>587</td>\n",
              "      <td>stretches shoulders spine</td>\n",
              "      <td>supta konasana</td>\n",
              "    </tr>\n",
              "  </tbody>\n",
              "</table>\n",
              "<p>337 rows × 3 columns</p>\n",
              "</div>\n",
              "      <button class=\"colab-df-convert\" onclick=\"convertToInteractive('df-91a711c6-bf34-4737-9f89-0b0a4f844c89')\"\n",
              "              title=\"Convert this dataframe to an interactive table.\"\n",
              "              style=\"display:none;\">\n",
              "        \n",
              "  <svg xmlns=\"http://www.w3.org/2000/svg\" height=\"24px\"viewBox=\"0 0 24 24\"\n",
              "       width=\"24px\">\n",
              "    <path d=\"M0 0h24v24H0V0z\" fill=\"none\"/>\n",
              "    <path d=\"M18.56 5.44l.94 2.06.94-2.06 2.06-.94-2.06-.94-.94-2.06-.94 2.06-2.06.94zm-11 1L8.5 8.5l.94-2.06 2.06-.94-2.06-.94L8.5 2.5l-.94 2.06-2.06.94zm10 10l.94 2.06.94-2.06 2.06-.94-2.06-.94-.94-2.06-.94 2.06-2.06.94z\"/><path d=\"M17.41 7.96l-1.37-1.37c-.4-.4-.92-.59-1.43-.59-.52 0-1.04.2-1.43.59L10.3 9.45l-7.72 7.72c-.78.78-.78 2.05 0 2.83L4 21.41c.39.39.9.59 1.41.59.51 0 1.02-.2 1.41-.59l7.78-7.78 2.81-2.81c.8-.78.8-2.07 0-2.86zM5.41 20L4 18.59l7.72-7.72 1.47 1.35L5.41 20z\"/>\n",
              "  </svg>\n",
              "      </button>\n",
              "      \n",
              "  <style>\n",
              "    .colab-df-container {\n",
              "      display:flex;\n",
              "      flex-wrap:wrap;\n",
              "      gap: 12px;\n",
              "    }\n",
              "\n",
              "    .colab-df-convert {\n",
              "      background-color: #E8F0FE;\n",
              "      border: none;\n",
              "      border-radius: 50%;\n",
              "      cursor: pointer;\n",
              "      display: none;\n",
              "      fill: #1967D2;\n",
              "      height: 32px;\n",
              "      padding: 0 0 0 0;\n",
              "      width: 32px;\n",
              "    }\n",
              "\n",
              "    .colab-df-convert:hover {\n",
              "      background-color: #E2EBFA;\n",
              "      box-shadow: 0px 1px 2px rgba(60, 64, 67, 0.3), 0px 1px 3px 1px rgba(60, 64, 67, 0.15);\n",
              "      fill: #174EA6;\n",
              "    }\n",
              "\n",
              "    [theme=dark] .colab-df-convert {\n",
              "      background-color: #3B4455;\n",
              "      fill: #D2E3FC;\n",
              "    }\n",
              "\n",
              "    [theme=dark] .colab-df-convert:hover {\n",
              "      background-color: #434B5C;\n",
              "      box-shadow: 0px 1px 3px 1px rgba(0, 0, 0, 0.15);\n",
              "      filter: drop-shadow(0px 1px 2px rgba(0, 0, 0, 0.3));\n",
              "      fill: #FFFFFF;\n",
              "    }\n",
              "  </style>\n",
              "\n",
              "      <script>\n",
              "        const buttonEl =\n",
              "          document.querySelector('#df-91a711c6-bf34-4737-9f89-0b0a4f844c89 button.colab-df-convert');\n",
              "        buttonEl.style.display =\n",
              "          google.colab.kernel.accessAllowed ? 'block' : 'none';\n",
              "\n",
              "        async function convertToInteractive(key) {\n",
              "          const element = document.querySelector('#df-91a711c6-bf34-4737-9f89-0b0a4f844c89');\n",
              "          const dataTable =\n",
              "            await google.colab.kernel.invokeFunction('convertToInteractive',\n",
              "                                                     [key], {});\n",
              "          if (!dataTable) return;\n",
              "\n",
              "          const docLinkHtml = 'Like what you see? Visit the ' +\n",
              "            '<a target=\"_blank\" href=https://colab.research.google.com/notebooks/data_table.ipynb>data table notebook</a>'\n",
              "            + ' to learn more about interactive tables.';\n",
              "          element.innerHTML = '';\n",
              "          dataTable['output_type'] = 'display_data';\n",
              "          await google.colab.output.renderOutput(dataTable, element);\n",
              "          const docLink = document.createElement('div');\n",
              "          docLink.innerHTML = docLinkHtml;\n",
              "          element.appendChild(docLink);\n",
              "        }\n",
              "      </script>\n",
              "    </div>\n",
              "  </div>\n",
              "  "
            ]
          },
          "metadata": {},
          "execution_count": 21
        }
      ]
    },
    {
      "cell_type": "code",
      "source": [
        ""
      ],
      "metadata": {
        "id": "oLtNOqWvWi2f"
      },
      "execution_count": null,
      "outputs": []
    },
    {
      "cell_type": "code",
      "source": [
        "example_complain(1)"
      ],
      "metadata": {
        "colab": {
          "base_uri": "https://localhost:8080/"
        },
        "id": "LdrlVYu57LEa",
        "outputId": "6eeac223-d9e4-47f8-fc64-a06fe0e5f13c"
      },
      "execution_count": null,
      "outputs": [
        {
          "output_type": "stream",
          "name": "stdout",
          "text": [
            "relieves gastritis indigestion acidity flatulence improves fleibility spine alleviates backache corrects alignment shoulders helps treat neck sprains massages tones pelvic area strengthens ankles reduces discomfort menstruation etended triangle good lengthening spine strengthening thighs torso pose also stretches hips groin hamstrings calves shoulders chest spine\n",
            "\n",
            "Category: utthita trikonasana\n"
          ]
        }
      ]
    },
    {
      "cell_type": "code",
      "source": [
        "data"
      ],
      "metadata": {
        "colab": {
          "base_uri": "https://localhost:8080/",
          "height": 424
        },
        "id": "9d09Nkr8KuRC",
        "outputId": "8e602af8-efb2-46bb-b620-f7d12bc5c665"
      },
      "execution_count": null,
      "outputs": [
        {
          "output_type": "execute_result",
          "data": {
            "text/plain": [
              "     index                                           Benefits  \\\n",
              "0        0  corrects bad posture straightening spine impro...   \n",
              "1        1  relieves gastritis indigestion acidity flatule...   \n",
              "2        2  improves breathing capacity epanding chest hel...   \n",
              "3        3  enhances lung capacity tones muscles heart rel...   \n",
              "4        4  cools brain soothes nerves relieves arthritis ...   \n",
              "..     ...                                                ...   \n",
              "332    579  stretches hip fleors hamstrings quadriceps imp...   \n",
              "333    580  opens lengthens hip fleors quadriceps thoracic...   \n",
              "334    582  improves focus balance stretches shoulders arm...   \n",
              "335    586  stretches entire front body opens chest tones ...   \n",
              "336    587                          stretches shoulders spine   \n",
              "\n",
              "                       Yoga Asan  \n",
              "0                       tadasana  \n",
              "1            utthita trikonasana  \n",
              "2                 virabhadrasana  \n",
              "3         utthita parsvakonasana  \n",
              "4                parsvottanasana  \n",
              "..                           ...  \n",
              "332           uttana pristhasana  \n",
              "333          crooked monkey pose  \n",
              "334                  shayanasana  \n",
              "335  dvi pada viparita dandasana  \n",
              "336               supta konasana  \n",
              "\n",
              "[337 rows x 3 columns]"
            ],
            "text/html": [
              "\n",
              "  <div id=\"df-2191c38a-584d-47b8-abb9-8e4b35d8b209\">\n",
              "    <div class=\"colab-df-container\">\n",
              "      <div>\n",
              "<style scoped>\n",
              "    .dataframe tbody tr th:only-of-type {\n",
              "        vertical-align: middle;\n",
              "    }\n",
              "\n",
              "    .dataframe tbody tr th {\n",
              "        vertical-align: top;\n",
              "    }\n",
              "\n",
              "    .dataframe thead th {\n",
              "        text-align: right;\n",
              "    }\n",
              "</style>\n",
              "<table border=\"1\" class=\"dataframe\">\n",
              "  <thead>\n",
              "    <tr style=\"text-align: right;\">\n",
              "      <th></th>\n",
              "      <th>index</th>\n",
              "      <th>Benefits</th>\n",
              "      <th>Yoga Asan</th>\n",
              "    </tr>\n",
              "  </thead>\n",
              "  <tbody>\n",
              "    <tr>\n",
              "      <th>0</th>\n",
              "      <td>0</td>\n",
              "      <td>corrects bad posture straightening spine impro...</td>\n",
              "      <td>tadasana</td>\n",
              "    </tr>\n",
              "    <tr>\n",
              "      <th>1</th>\n",
              "      <td>1</td>\n",
              "      <td>relieves gastritis indigestion acidity flatule...</td>\n",
              "      <td>utthita trikonasana</td>\n",
              "    </tr>\n",
              "    <tr>\n",
              "      <th>2</th>\n",
              "      <td>2</td>\n",
              "      <td>improves breathing capacity epanding chest hel...</td>\n",
              "      <td>virabhadrasana</td>\n",
              "    </tr>\n",
              "    <tr>\n",
              "      <th>3</th>\n",
              "      <td>3</td>\n",
              "      <td>enhances lung capacity tones muscles heart rel...</td>\n",
              "      <td>utthita parsvakonasana</td>\n",
              "    </tr>\n",
              "    <tr>\n",
              "      <th>4</th>\n",
              "      <td>4</td>\n",
              "      <td>cools brain soothes nerves relieves arthritis ...</td>\n",
              "      <td>parsvottanasana</td>\n",
              "    </tr>\n",
              "    <tr>\n",
              "      <th>...</th>\n",
              "      <td>...</td>\n",
              "      <td>...</td>\n",
              "      <td>...</td>\n",
              "    </tr>\n",
              "    <tr>\n",
              "      <th>332</th>\n",
              "      <td>579</td>\n",
              "      <td>stretches hip fleors hamstrings quadriceps imp...</td>\n",
              "      <td>uttana pristhasana</td>\n",
              "    </tr>\n",
              "    <tr>\n",
              "      <th>333</th>\n",
              "      <td>580</td>\n",
              "      <td>opens lengthens hip fleors quadriceps thoracic...</td>\n",
              "      <td>crooked monkey pose</td>\n",
              "    </tr>\n",
              "    <tr>\n",
              "      <th>334</th>\n",
              "      <td>582</td>\n",
              "      <td>improves focus balance stretches shoulders arm...</td>\n",
              "      <td>shayanasana</td>\n",
              "    </tr>\n",
              "    <tr>\n",
              "      <th>335</th>\n",
              "      <td>586</td>\n",
              "      <td>stretches entire front body opens chest tones ...</td>\n",
              "      <td>dvi pada viparita dandasana</td>\n",
              "    </tr>\n",
              "    <tr>\n",
              "      <th>336</th>\n",
              "      <td>587</td>\n",
              "      <td>stretches shoulders spine</td>\n",
              "      <td>supta konasana</td>\n",
              "    </tr>\n",
              "  </tbody>\n",
              "</table>\n",
              "<p>337 rows × 3 columns</p>\n",
              "</div>\n",
              "      <button class=\"colab-df-convert\" onclick=\"convertToInteractive('df-2191c38a-584d-47b8-abb9-8e4b35d8b209')\"\n",
              "              title=\"Convert this dataframe to an interactive table.\"\n",
              "              style=\"display:none;\">\n",
              "        \n",
              "  <svg xmlns=\"http://www.w3.org/2000/svg\" height=\"24px\"viewBox=\"0 0 24 24\"\n",
              "       width=\"24px\">\n",
              "    <path d=\"M0 0h24v24H0V0z\" fill=\"none\"/>\n",
              "    <path d=\"M18.56 5.44l.94 2.06.94-2.06 2.06-.94-2.06-.94-.94-2.06-.94 2.06-2.06.94zm-11 1L8.5 8.5l.94-2.06 2.06-.94-2.06-.94L8.5 2.5l-.94 2.06-2.06.94zm10 10l.94 2.06.94-2.06 2.06-.94-2.06-.94-.94-2.06-.94 2.06-2.06.94z\"/><path d=\"M17.41 7.96l-1.37-1.37c-.4-.4-.92-.59-1.43-.59-.52 0-1.04.2-1.43.59L10.3 9.45l-7.72 7.72c-.78.78-.78 2.05 0 2.83L4 21.41c.39.39.9.59 1.41.59.51 0 1.02-.2 1.41-.59l7.78-7.78 2.81-2.81c.8-.78.8-2.07 0-2.86zM5.41 20L4 18.59l7.72-7.72 1.47 1.35L5.41 20z\"/>\n",
              "  </svg>\n",
              "      </button>\n",
              "      \n",
              "  <style>\n",
              "    .colab-df-container {\n",
              "      display:flex;\n",
              "      flex-wrap:wrap;\n",
              "      gap: 12px;\n",
              "    }\n",
              "\n",
              "    .colab-df-convert {\n",
              "      background-color: #E8F0FE;\n",
              "      border: none;\n",
              "      border-radius: 50%;\n",
              "      cursor: pointer;\n",
              "      display: none;\n",
              "      fill: #1967D2;\n",
              "      height: 32px;\n",
              "      padding: 0 0 0 0;\n",
              "      width: 32px;\n",
              "    }\n",
              "\n",
              "    .colab-df-convert:hover {\n",
              "      background-color: #E2EBFA;\n",
              "      box-shadow: 0px 1px 2px rgba(60, 64, 67, 0.3), 0px 1px 3px 1px rgba(60, 64, 67, 0.15);\n",
              "      fill: #174EA6;\n",
              "    }\n",
              "\n",
              "    [theme=dark] .colab-df-convert {\n",
              "      background-color: #3B4455;\n",
              "      fill: #D2E3FC;\n",
              "    }\n",
              "\n",
              "    [theme=dark] .colab-df-convert:hover {\n",
              "      background-color: #434B5C;\n",
              "      box-shadow: 0px 1px 3px 1px rgba(0, 0, 0, 0.15);\n",
              "      filter: drop-shadow(0px 1px 2px rgba(0, 0, 0, 0.3));\n",
              "      fill: #FFFFFF;\n",
              "    }\n",
              "  </style>\n",
              "\n",
              "      <script>\n",
              "        const buttonEl =\n",
              "          document.querySelector('#df-2191c38a-584d-47b8-abb9-8e4b35d8b209 button.colab-df-convert');\n",
              "        buttonEl.style.display =\n",
              "          google.colab.kernel.accessAllowed ? 'block' : 'none';\n",
              "\n",
              "        async function convertToInteractive(key) {\n",
              "          const element = document.querySelector('#df-2191c38a-584d-47b8-abb9-8e4b35d8b209');\n",
              "          const dataTable =\n",
              "            await google.colab.kernel.invokeFunction('convertToInteractive',\n",
              "                                                     [key], {});\n",
              "          if (!dataTable) return;\n",
              "\n",
              "          const docLinkHtml = 'Like what you see? Visit the ' +\n",
              "            '<a target=\"_blank\" href=https://colab.research.google.com/notebooks/data_table.ipynb>data table notebook</a>'\n",
              "            + ' to learn more about interactive tables.';\n",
              "          element.innerHTML = '';\n",
              "          dataTable['output_type'] = 'display_data';\n",
              "          await google.colab.output.renderOutput(dataTable, element);\n",
              "          const docLink = document.createElement('div');\n",
              "          docLink.innerHTML = docLinkHtml;\n",
              "          element.appendChild(docLink);\n",
              "        }\n",
              "      </script>\n",
              "    </div>\n",
              "  </div>\n",
              "  "
            ]
          },
          "metadata": {},
          "execution_count": 23
        }
      ]
    },
    {
      "cell_type": "code",
      "source": [
        "# The maximum number of words to be used. (most frequent)\n",
        "MAX_NB_WORDS = 20000\n",
        "# Max number of words in each complaint.\n",
        "MAX_SEQUENCE_LENGTH = 500\n",
        "# This is fixed.\n",
        "EMBEDDING_DIM = 100\n",
        "\n",
        "tokenizer = Tokenizer(num_words=MAX_NB_WORDS, filters='!\"#$%&()*+,-./:;<=>?@[\\]^`{|}~', lower=True)\n",
        "tokenizer.fit_on_texts(data[x1].values)\n",
        "word_index = tokenizer.word_index\n",
        "print('Found %s unique tokens.' % len(word_index))\n"
      ],
      "metadata": {
        "colab": {
          "base_uri": "https://localhost:8080/"
        },
        "id": "uT_5VHQU7LG_",
        "outputId": "64fa99a2-2839-49ab-baef-d623bc77b888"
      },
      "execution_count": null,
      "outputs": [
        {
          "output_type": "stream",
          "name": "stdout",
          "text": [
            "Found 2645 unique tokens.\n"
          ]
        }
      ]
    },
    {
      "cell_type": "code",
      "source": [
        "X = tokenizer.texts_to_sequences(data[x1].values)\n",
        "X = pad_sequences(X, maxlen=MAX_SEQUENCE_LENGTH)\n",
        "print('Shape of data tensor:', X.shape)"
      ],
      "metadata": {
        "colab": {
          "base_uri": "https://localhost:8080/"
        },
        "id": "5tlYXbRo7LJm",
        "outputId": "a4e2dbd3-9dfd-45b0-ffbf-3e54567247ce"
      },
      "execution_count": null,
      "outputs": [
        {
          "output_type": "stream",
          "name": "stdout",
          "text": [
            "Shape of data tensor: (337, 500)\n"
          ]
        }
      ]
    },
    {
      "cell_type": "code",
      "source": [
        "Y = pd.get_dummies(data[x2]).values\n",
        "print('Shape of label tensor:', Y.shape)"
      ],
      "metadata": {
        "colab": {
          "base_uri": "https://localhost:8080/"
        },
        "id": "rl4tmSco7LMa",
        "outputId": "2a0a4de3-ecef-4157-cd46-d8c98a209636"
      },
      "execution_count": null,
      "outputs": [
        {
          "output_type": "stream",
          "name": "stdout",
          "text": [
            "Shape of label tensor: (337, 337)\n"
          ]
        }
      ]
    },
    {
      "cell_type": "code",
      "source": [
        "X_train, X_test, Y_train, Y_test = train_test_split(X,Y, test_size = 0.1, random_state = 42)\n",
        "print(X_train.shape,Y_train.shape)\n",
        "print(X_test.shape,Y_test.shape)"
      ],
      "metadata": {
        "colab": {
          "base_uri": "https://localhost:8080/"
        },
        "id": "MAhagLTr7LPU",
        "outputId": "9625865d-f6ba-48fa-ca85-8062d4079b40"
      },
      "execution_count": null,
      "outputs": [
        {
          "output_type": "stream",
          "name": "stdout",
          "text": [
            "(303, 500) (303, 337)\n",
            "(34, 500) (34, 337)\n"
          ]
        }
      ]
    },
    {
      "cell_type": "code",
      "source": [
        ""
      ],
      "metadata": {
        "id": "rICHXyefYMRO"
      },
      "execution_count": null,
      "outputs": []
    },
    {
      "cell_type": "code",
      "source": [
        "model = Sequential()\n",
        "model.add(Embedding(MAX_NB_WORDS, EMBEDDING_DIM, input_length=X.shape[1]))\n",
        "model.add(SpatialDropout1D(0.2))\n",
        "# model.add(Dense(337, activation='relu'))\n",
        "\n",
        "model.add(LSTM(100))\n",
        "model.add(Dense(337, activation='softmax'))\n",
        "model.compile(loss='categorical_crossentropy', optimizer='adam', metrics=['accuracy'])\n",
        "print(model.summary())"
      ],
      "metadata": {
        "colab": {
          "base_uri": "https://localhost:8080/"
        },
        "id": "RhTmmnIx7LSA",
        "outputId": "600f59f6-21a9-493e-dee0-032b89924b11"
      },
      "execution_count": null,
      "outputs": [
        {
          "output_type": "stream",
          "name": "stdout",
          "text": [
            "Model: \"sequential_1\"\n",
            "_________________________________________________________________\n",
            " Layer (type)                Output Shape              Param #   \n",
            "=================================================================\n",
            " embedding_1 (Embedding)     (None, 500, 100)          2000000   \n",
            "                                                                 \n",
            " spatial_dropout1d_1 (Spatia  (None, 500, 100)         0         \n",
            " lDropout1D)                                                     \n",
            "                                                                 \n",
            " lstm_1 (LSTM)               (None, 100)               80400     \n",
            "                                                                 \n",
            " dense_1 (Dense)             (None, 337)               34037     \n",
            "                                                                 \n",
            "=================================================================\n",
            "Total params: 2,114,437\n",
            "Trainable params: 2,114,437\n",
            "Non-trainable params: 0\n",
            "_________________________________________________________________\n",
            "None\n"
          ]
        }
      ]
    },
    {
      "cell_type": "code",
      "source": [
        "epochs = 100\n",
        "batch_size = 64\n",
        "\n",
        "history = model.fit(X, Y, epochs=epochs, batch_size=batch_size,validation_split=0.1,callbacks=[EarlyStopping(monitor='val_loss', patience=100)])"
      ],
      "metadata": {
        "colab": {
          "base_uri": "https://localhost:8080/"
        },
        "id": "drjW9XcX7LU1",
        "outputId": "5b8d4a01-47fc-4e00-b4be-dbf6575d61d5"
      },
      "execution_count": null,
      "outputs": [
        {
          "output_type": "stream",
          "name": "stdout",
          "text": [
            "Epoch 1/100\n",
            "5/5 [==============================] - 3s 655ms/step - loss: 5.5548 - accuracy: 0.0132 - val_loss: 6.2282 - val_accuracy: 0.0000e+00\n",
            "Epoch 2/100\n",
            "5/5 [==============================] - 3s 645ms/step - loss: 5.4685 - accuracy: 0.0132 - val_loss: 6.2667 - val_accuracy: 0.0000e+00\n",
            "Epoch 3/100\n",
            "5/5 [==============================] - 3s 654ms/step - loss: 5.3785 - accuracy: 0.0132 - val_loss: 6.3943 - val_accuracy: 0.0000e+00\n",
            "Epoch 4/100\n",
            "5/5 [==============================] - 5s 1s/step - loss: 5.3044 - accuracy: 0.0165 - val_loss: 6.4721 - val_accuracy: 0.0000e+00\n",
            "Epoch 5/100\n",
            "5/5 [==============================] - 3s 649ms/step - loss: 5.2129 - accuracy: 0.0165 - val_loss: 6.7173 - val_accuracy: 0.0000e+00\n",
            "Epoch 6/100\n",
            "5/5 [==============================] - 3s 653ms/step - loss: 5.1252 - accuracy: 0.0198 - val_loss: 6.7007 - val_accuracy: 0.0000e+00\n",
            "Epoch 7/100\n",
            "5/5 [==============================] - 3s 644ms/step - loss: 5.0380 - accuracy: 0.0330 - val_loss: 6.7579 - val_accuracy: 0.0000e+00\n",
            "Epoch 8/100\n",
            "5/5 [==============================] - 3s 665ms/step - loss: 4.9501 - accuracy: 0.0297 - val_loss: 6.8911 - val_accuracy: 0.0000e+00\n",
            "Epoch 9/100\n",
            "5/5 [==============================] - 4s 820ms/step - loss: 4.8758 - accuracy: 0.0396 - val_loss: 6.8378 - val_accuracy: 0.0000e+00\n",
            "Epoch 10/100\n",
            "5/5 [==============================] - 4s 811ms/step - loss: 4.7902 - accuracy: 0.0594 - val_loss: 6.8190 - val_accuracy: 0.0000e+00\n",
            "Epoch 11/100\n",
            "5/5 [==============================] - 3s 645ms/step - loss: 4.7169 - accuracy: 0.0825 - val_loss: 6.9879 - val_accuracy: 0.0000e+00\n",
            "Epoch 12/100\n",
            "5/5 [==============================] - 3s 645ms/step - loss: 4.6295 - accuracy: 0.1155 - val_loss: 7.0489 - val_accuracy: 0.0000e+00\n",
            "Epoch 13/100\n",
            "5/5 [==============================] - 3s 639ms/step - loss: 4.5545 - accuracy: 0.1188 - val_loss: 7.0812 - val_accuracy: 0.0000e+00\n",
            "Epoch 14/100\n",
            "5/5 [==============================] - 3s 636ms/step - loss: 4.4658 - accuracy: 0.1254 - val_loss: 7.2077 - val_accuracy: 0.0000e+00\n",
            "Epoch 15/100\n",
            "5/5 [==============================] - 3s 645ms/step - loss: 4.3865 - accuracy: 0.1485 - val_loss: 7.2321 - val_accuracy: 0.0000e+00\n",
            "Epoch 16/100\n",
            "5/5 [==============================] - 3s 636ms/step - loss: 4.3107 - accuracy: 0.1947 - val_loss: 7.4098 - val_accuracy: 0.0000e+00\n",
            "Epoch 17/100\n",
            "5/5 [==============================] - 3s 636ms/step - loss: 4.2359 - accuracy: 0.2409 - val_loss: 7.4857 - val_accuracy: 0.0000e+00\n",
            "Epoch 18/100\n",
            "5/5 [==============================] - 3s 642ms/step - loss: 4.1632 - accuracy: 0.2574 - val_loss: 7.4238 - val_accuracy: 0.0000e+00\n",
            "Epoch 19/100\n",
            "5/5 [==============================] - 3s 644ms/step - loss: 4.0982 - accuracy: 0.2508 - val_loss: 7.5176 - val_accuracy: 0.0000e+00\n",
            "Epoch 20/100\n",
            "5/5 [==============================] - 3s 644ms/step - loss: 4.0450 - accuracy: 0.2739 - val_loss: 7.6314 - val_accuracy: 0.0000e+00\n",
            "Epoch 21/100\n",
            "5/5 [==============================] - 3s 640ms/step - loss: 3.9774 - accuracy: 0.3465 - val_loss: 7.6608 - val_accuracy: 0.0000e+00\n",
            "Epoch 22/100\n",
            "5/5 [==============================] - 3s 647ms/step - loss: 3.9144 - accuracy: 0.3498 - val_loss: 7.6726 - val_accuracy: 0.0000e+00\n",
            "Epoch 23/100\n",
            "5/5 [==============================] - 3s 637ms/step - loss: 3.8290 - accuracy: 0.3828 - val_loss: 7.8285 - val_accuracy: 0.0000e+00\n",
            "Epoch 24/100\n",
            "5/5 [==============================] - 3s 640ms/step - loss: 3.7373 - accuracy: 0.4356 - val_loss: 7.8621 - val_accuracy: 0.0000e+00\n",
            "Epoch 25/100\n",
            "5/5 [==============================] - 3s 645ms/step - loss: 3.6688 - accuracy: 0.4818 - val_loss: 7.9978 - val_accuracy: 0.0000e+00\n",
            "Epoch 26/100\n",
            "5/5 [==============================] - 3s 643ms/step - loss: 3.5902 - accuracy: 0.4851 - val_loss: 8.0329 - val_accuracy: 0.0000e+00\n",
            "Epoch 27/100\n",
            "5/5 [==============================] - 3s 650ms/step - loss: 3.5057 - accuracy: 0.5380 - val_loss: 8.1819 - val_accuracy: 0.0000e+00\n",
            "Epoch 28/100\n",
            "5/5 [==============================] - 3s 640ms/step - loss: 3.4323 - accuracy: 0.5545 - val_loss: 8.2360 - val_accuracy: 0.0000e+00\n",
            "Epoch 29/100\n",
            "5/5 [==============================] - 3s 654ms/step - loss: 3.3568 - accuracy: 0.6172 - val_loss: 8.3441 - val_accuracy: 0.0000e+00\n",
            "Epoch 30/100\n",
            "5/5 [==============================] - 3s 630ms/step - loss: 3.2918 - accuracy: 0.5875 - val_loss: 8.2324 - val_accuracy: 0.0000e+00\n",
            "Epoch 31/100\n",
            "5/5 [==============================] - 3s 638ms/step - loss: 3.2168 - accuracy: 0.6502 - val_loss: 8.5192 - val_accuracy: 0.0000e+00\n",
            "Epoch 32/100\n",
            "5/5 [==============================] - 3s 638ms/step - loss: 3.1411 - accuracy: 0.6403 - val_loss: 8.4165 - val_accuracy: 0.0000e+00\n",
            "Epoch 33/100\n",
            "5/5 [==============================] - 3s 637ms/step - loss: 3.0735 - accuracy: 0.6403 - val_loss: 8.4922 - val_accuracy: 0.0000e+00\n",
            "Epoch 34/100\n",
            "5/5 [==============================] - 3s 641ms/step - loss: 2.9945 - accuracy: 0.6601 - val_loss: 8.5562 - val_accuracy: 0.0000e+00\n",
            "Epoch 35/100\n",
            "5/5 [==============================] - 3s 649ms/step - loss: 2.9134 - accuracy: 0.6931 - val_loss: 8.6650 - val_accuracy: 0.0000e+00\n",
            "Epoch 36/100\n",
            "5/5 [==============================] - 3s 638ms/step - loss: 2.8414 - accuracy: 0.7360 - val_loss: 8.6994 - val_accuracy: 0.0000e+00\n",
            "Epoch 37/100\n",
            "5/5 [==============================] - 3s 643ms/step - loss: 2.7750 - accuracy: 0.7459 - val_loss: 8.6682 - val_accuracy: 0.0000e+00\n",
            "Epoch 38/100\n",
            "5/5 [==============================] - 3s 649ms/step - loss: 2.7105 - accuracy: 0.7756 - val_loss: 8.8308 - val_accuracy: 0.0000e+00\n",
            "Epoch 39/100\n",
            "5/5 [==============================] - 5s 973ms/step - loss: 2.6215 - accuracy: 0.7954 - val_loss: 8.8977 - val_accuracy: 0.0000e+00\n",
            "Epoch 40/100\n",
            "5/5 [==============================] - 3s 637ms/step - loss: 2.5470 - accuracy: 0.8086 - val_loss: 9.0275 - val_accuracy: 0.0000e+00\n",
            "Epoch 41/100\n",
            "5/5 [==============================] - 3s 644ms/step - loss: 2.4687 - accuracy: 0.7987 - val_loss: 8.9976 - val_accuracy: 0.0000e+00\n",
            "Epoch 42/100\n",
            "5/5 [==============================] - 3s 643ms/step - loss: 2.3955 - accuracy: 0.8284 - val_loss: 9.1818 - val_accuracy: 0.0000e+00\n",
            "Epoch 43/100\n",
            "5/5 [==============================] - 3s 643ms/step - loss: 2.3330 - accuracy: 0.8581 - val_loss: 9.0862 - val_accuracy: 0.0000e+00\n",
            "Epoch 44/100\n",
            "5/5 [==============================] - 3s 643ms/step - loss: 2.2631 - accuracy: 0.8449 - val_loss: 9.2658 - val_accuracy: 0.0000e+00\n",
            "Epoch 45/100\n",
            "5/5 [==============================] - 3s 639ms/step - loss: 2.1924 - accuracy: 0.8449 - val_loss: 9.2563 - val_accuracy: 0.0000e+00\n",
            "Epoch 46/100\n",
            "5/5 [==============================] - 3s 641ms/step - loss: 2.1126 - accuracy: 0.8746 - val_loss: 9.3211 - val_accuracy: 0.0000e+00\n",
            "Epoch 47/100\n",
            "5/5 [==============================] - 5s 1s/step - loss: 2.0579 - accuracy: 0.8779 - val_loss: 9.3732 - val_accuracy: 0.0000e+00\n",
            "Epoch 48/100\n",
            "5/5 [==============================] - 3s 635ms/step - loss: 2.0029 - accuracy: 0.8680 - val_loss: 9.4315 - val_accuracy: 0.0000e+00\n",
            "Epoch 49/100\n",
            "5/5 [==============================] - 3s 637ms/step - loss: 1.9366 - accuracy: 0.8746 - val_loss: 9.4727 - val_accuracy: 0.0000e+00\n",
            "Epoch 50/100\n",
            "5/5 [==============================] - 3s 644ms/step - loss: 1.8735 - accuracy: 0.8713 - val_loss: 9.5665 - val_accuracy: 0.0000e+00\n",
            "Epoch 51/100\n",
            "5/5 [==============================] - 3s 641ms/step - loss: 1.8059 - accuracy: 0.8779 - val_loss: 9.6409 - val_accuracy: 0.0000e+00\n",
            "Epoch 52/100\n",
            "5/5 [==============================] - 3s 640ms/step - loss: 1.7875 - accuracy: 0.8878 - val_loss: 9.5324 - val_accuracy: 0.0000e+00\n",
            "Epoch 53/100\n",
            "5/5 [==============================] - 3s 641ms/step - loss: 1.7801 - accuracy: 0.8845 - val_loss: 9.7425 - val_accuracy: 0.0000e+00\n",
            "Epoch 54/100\n",
            "5/5 [==============================] - 3s 638ms/step - loss: 1.7383 - accuracy: 0.8812 - val_loss: 9.5525 - val_accuracy: 0.0000e+00\n",
            "Epoch 55/100\n",
            "5/5 [==============================] - 3s 643ms/step - loss: 1.6575 - accuracy: 0.8977 - val_loss: 9.8181 - val_accuracy: 0.0000e+00\n",
            "Epoch 56/100\n",
            "5/5 [==============================] - 3s 641ms/step - loss: 1.6006 - accuracy: 0.9142 - val_loss: 9.7683 - val_accuracy: 0.0000e+00\n",
            "Epoch 57/100\n",
            "5/5 [==============================] - 3s 649ms/step - loss: 1.5376 - accuracy: 0.9109 - val_loss: 9.9061 - val_accuracy: 0.0000e+00\n",
            "Epoch 58/100\n",
            "5/5 [==============================] - 3s 639ms/step - loss: 1.4817 - accuracy: 0.9010 - val_loss: 9.7317 - val_accuracy: 0.0000e+00\n",
            "Epoch 59/100\n",
            "5/5 [==============================] - 3s 635ms/step - loss: 1.4250 - accuracy: 0.9076 - val_loss: 9.7756 - val_accuracy: 0.0000e+00\n",
            "Epoch 60/100\n",
            "5/5 [==============================] - 3s 645ms/step - loss: 1.3809 - accuracy: 0.9109 - val_loss: 9.8315 - val_accuracy: 0.0000e+00\n",
            "Epoch 61/100\n",
            "5/5 [==============================] - 3s 642ms/step - loss: 1.3219 - accuracy: 0.9142 - val_loss: 9.9608 - val_accuracy: 0.0000e+00\n",
            "Epoch 62/100\n",
            "5/5 [==============================] - 3s 640ms/step - loss: 1.2818 - accuracy: 0.9109 - val_loss: 10.0533 - val_accuracy: 0.0000e+00\n",
            "Epoch 63/100\n",
            "5/5 [==============================] - 3s 646ms/step - loss: 1.2501 - accuracy: 0.9274 - val_loss: 10.0537 - val_accuracy: 0.0000e+00\n",
            "Epoch 64/100\n",
            "5/5 [==============================] - 3s 638ms/step - loss: 1.2320 - accuracy: 0.9175 - val_loss: 10.0903 - val_accuracy: 0.0000e+00\n",
            "Epoch 65/100\n",
            "5/5 [==============================] - 3s 639ms/step - loss: 1.1733 - accuracy: 0.9109 - val_loss: 10.1233 - val_accuracy: 0.0000e+00\n",
            "Epoch 66/100\n",
            "5/5 [==============================] - 3s 652ms/step - loss: 1.1308 - accuracy: 0.9076 - val_loss: 10.1295 - val_accuracy: 0.0000e+00\n",
            "Epoch 67/100\n",
            "5/5 [==============================] - 3s 656ms/step - loss: 1.0966 - accuracy: 0.9340 - val_loss: 10.2323 - val_accuracy: 0.0000e+00\n",
            "Epoch 68/100\n",
            "5/5 [==============================] - 3s 644ms/step - loss: 1.0598 - accuracy: 0.9274 - val_loss: 10.2309 - val_accuracy: 0.0000e+00\n",
            "Epoch 69/100\n",
            "5/5 [==============================] - 3s 636ms/step - loss: 1.0279 - accuracy: 0.9373 - val_loss: 10.3352 - val_accuracy: 0.0000e+00\n",
            "Epoch 70/100\n",
            "5/5 [==============================] - 3s 647ms/step - loss: 0.9926 - accuracy: 0.9076 - val_loss: 10.3269 - val_accuracy: 0.0000e+00\n",
            "Epoch 71/100\n",
            "5/5 [==============================] - 3s 641ms/step - loss: 0.9578 - accuracy: 0.9307 - val_loss: 10.3403 - val_accuracy: 0.0000e+00\n",
            "Epoch 72/100\n",
            "5/5 [==============================] - 3s 642ms/step - loss: 0.9360 - accuracy: 0.9142 - val_loss: 10.3646 - val_accuracy: 0.0000e+00\n",
            "Epoch 73/100\n",
            "5/5 [==============================] - 3s 650ms/step - loss: 0.9136 - accuracy: 0.9340 - val_loss: 10.4525 - val_accuracy: 0.0000e+00\n",
            "Epoch 74/100\n",
            "5/5 [==============================] - 3s 640ms/step - loss: 0.8919 - accuracy: 0.9340 - val_loss: 10.4194 - val_accuracy: 0.0000e+00\n",
            "Epoch 75/100\n",
            "5/5 [==============================] - 3s 653ms/step - loss: 0.8578 - accuracy: 0.9340 - val_loss: 10.4458 - val_accuracy: 0.0000e+00\n",
            "Epoch 76/100\n",
            "5/5 [==============================] - 3s 644ms/step - loss: 0.8603 - accuracy: 0.9241 - val_loss: 10.5042 - val_accuracy: 0.0000e+00\n",
            "Epoch 77/100\n",
            "5/5 [==============================] - 3s 634ms/step - loss: 0.8137 - accuracy: 0.9340 - val_loss: 10.4772 - val_accuracy: 0.0000e+00\n",
            "Epoch 78/100\n",
            "5/5 [==============================] - 3s 633ms/step - loss: 0.7830 - accuracy: 0.9439 - val_loss: 10.5770 - val_accuracy: 0.0000e+00\n",
            "Epoch 79/100\n",
            "5/5 [==============================] - 3s 637ms/step - loss: 0.7592 - accuracy: 0.9241 - val_loss: 10.5475 - val_accuracy: 0.0000e+00\n",
            "Epoch 80/100\n",
            "5/5 [==============================] - 3s 651ms/step - loss: 0.7361 - accuracy: 0.9274 - val_loss: 10.6315 - val_accuracy: 0.0000e+00\n",
            "Epoch 81/100\n",
            "5/5 [==============================] - 3s 644ms/step - loss: 0.7224 - accuracy: 0.9340 - val_loss: 10.6856 - val_accuracy: 0.0000e+00\n",
            "Epoch 82/100\n",
            "5/5 [==============================] - 3s 652ms/step - loss: 0.6931 - accuracy: 0.9274 - val_loss: 10.6299 - val_accuracy: 0.0000e+00\n",
            "Epoch 83/100\n",
            "5/5 [==============================] - 3s 639ms/step - loss: 0.6694 - accuracy: 0.9406 - val_loss: 10.7116 - val_accuracy: 0.0000e+00\n",
            "Epoch 84/100\n",
            "5/5 [==============================] - 3s 643ms/step - loss: 0.6508 - accuracy: 0.9307 - val_loss: 10.6507 - val_accuracy: 0.0000e+00\n",
            "Epoch 85/100\n",
            "5/5 [==============================] - 3s 639ms/step - loss: 0.6352 - accuracy: 0.9241 - val_loss: 10.6482 - val_accuracy: 0.0000e+00\n",
            "Epoch 86/100\n",
            "5/5 [==============================] - 3s 649ms/step - loss: 0.6199 - accuracy: 0.9373 - val_loss: 10.7675 - val_accuracy: 0.0000e+00\n",
            "Epoch 87/100\n",
            "5/5 [==============================] - 3s 644ms/step - loss: 0.6043 - accuracy: 0.9373 - val_loss: 10.8188 - val_accuracy: 0.0000e+00\n",
            "Epoch 88/100\n",
            "5/5 [==============================] - 3s 643ms/step - loss: 0.5867 - accuracy: 0.9439 - val_loss: 10.8354 - val_accuracy: 0.0000e+00\n",
            "Epoch 89/100\n",
            "5/5 [==============================] - 3s 637ms/step - loss: 0.5760 - accuracy: 0.9472 - val_loss: 10.8010 - val_accuracy: 0.0000e+00\n",
            "Epoch 90/100\n",
            "5/5 [==============================] - 3s 651ms/step - loss: 0.5619 - accuracy: 0.9274 - val_loss: 10.8510 - val_accuracy: 0.0000e+00\n",
            "Epoch 91/100\n",
            "5/5 [==============================] - 4s 853ms/step - loss: 0.5484 - accuracy: 0.9274 - val_loss: 10.8450 - val_accuracy: 0.0000e+00\n",
            "Epoch 92/100\n",
            "5/5 [==============================] - 4s 768ms/step - loss: 0.5368 - accuracy: 0.9406 - val_loss: 10.8165 - val_accuracy: 0.0000e+00\n",
            "Epoch 93/100\n",
            "5/5 [==============================] - 3s 644ms/step - loss: 0.5241 - accuracy: 0.9307 - val_loss: 10.9222 - val_accuracy: 0.0000e+00\n",
            "Epoch 94/100\n",
            "5/5 [==============================] - 3s 640ms/step - loss: 0.5092 - accuracy: 0.9340 - val_loss: 10.9591 - val_accuracy: 0.0000e+00\n",
            "Epoch 95/100\n",
            "5/5 [==============================] - 3s 643ms/step - loss: 0.4948 - accuracy: 0.9340 - val_loss: 10.9819 - val_accuracy: 0.0000e+00\n",
            "Epoch 96/100\n",
            "5/5 [==============================] - 3s 650ms/step - loss: 0.4846 - accuracy: 0.9307 - val_loss: 10.9917 - val_accuracy: 0.0000e+00\n",
            "Epoch 97/100\n",
            "5/5 [==============================] - 3s 642ms/step - loss: 0.4749 - accuracy: 0.9439 - val_loss: 10.9953 - val_accuracy: 0.0000e+00\n",
            "Epoch 98/100\n",
            "5/5 [==============================] - 3s 642ms/step - loss: 0.4626 - accuracy: 0.9307 - val_loss: 11.0183 - val_accuracy: 0.0000e+00\n",
            "Epoch 99/100\n",
            "5/5 [==============================] - 3s 649ms/step - loss: 0.4514 - accuracy: 0.9439 - val_loss: 11.0137 - val_accuracy: 0.0000e+00\n",
            "Epoch 100/100\n",
            "5/5 [==============================] - 3s 646ms/step - loss: 0.4468 - accuracy: 0.9406 - val_loss: 11.0570 - val_accuracy: 0.0000e+00\n"
          ]
        }
      ]
    },
    {
      "cell_type": "code",
      "source": [
        ""
      ],
      "metadata": {
        "id": "u5keKEuQmlMu"
      },
      "execution_count": null,
      "outputs": []
    },
    {
      "cell_type": "code",
      "source": [
        "accr = model.evaluate(X_test,Y_test)\n",
        "print('Test set\\n  Loss: {:0.3f}\\n  Accuracy: {:0.3f}'.format(accr[0],accr[1]))"
      ],
      "metadata": {
        "colab": {
          "base_uri": "https://localhost:8080/"
        },
        "id": "X7gHzd8Q7LYZ",
        "outputId": "33bc4f11-4722-471e-eda4-a2c7d79154c4"
      },
      "execution_count": null,
      "outputs": [
        {
          "output_type": "stream",
          "name": "stdout",
          "text": [
            "2/2 [==============================] - 0s 36ms/step - loss: 1.6571 - accuracy: 0.8529\n",
            "Test set\n",
            "  Loss: 1.657\n",
            "  Accuracy: 0.853\n"
          ]
        }
      ]
    },
    {
      "cell_type": "code",
      "source": [
        "plt.title('Loss')\n",
        "plt.plot(history.history['loss'], label='train')\n",
        "plt.plot(history.history['val_loss'], label='test')\n",
        "plt.legend()\n",
        "plt.show();"
      ],
      "metadata": {
        "colab": {
          "base_uri": "https://localhost:8080/",
          "height": 281
        },
        "id": "Afvft_HGgR0T",
        "outputId": "1dccc481-5073-4449-d974-352cc2ea118d"
      },
      "execution_count": null,
      "outputs": [
        {
          "output_type": "display_data",
          "data": {
            "text/plain": [
              "<Figure size 432x288 with 1 Axes>"
            ],
            "image/png": "[encoded data removed]"
          },
          "metadata": {
            "needs_background": "light"
          }
        }
      ]
    },
    {
      "cell_type": "code",
      "source": [
        "labels1=list(data[x2])\n",
        "labels2=list(data[x1])\n",
        "#labels1"
      ],
      "metadata": {
        "id": "jPwt1jCahDLn"
      },
      "execution_count": null,
      "outputs": []
    },
    {
      "cell_type": "code",
      "source": [
        ""
      ],
      "metadata": {
        "id": "Zcz_dntFk2Ka"
      },
      "execution_count": null,
      "outputs": []
    },
    {
      "cell_type": "code",
      "source": [
        "new_complaint = ['blood circulation']\n",
        "seq = tokenizer.texts_to_sequences(new_complaint)\n",
        "padded = pad_sequences(seq, maxlen=MAX_SEQUENCE_LENGTH)\n",
        "pred = model.predict(padded)\n",
        "labels =labels1\n",
        "labels3=labels2\n",
        "for i in range(5):\n",
        "  print(labels[np.argsort(np.max(pred, axis=0))[-(i+1)]])\n",
        "  # print(labels3[np.argsort(np.max(pred, axis=0))[-(i+1)]])\n",
        "# pred"
      ],
      "metadata": {
        "colab": {
          "base_uri": "https://localhost:8080/"
        },
        "id": "hbV6Zv36gR6J",
        "outputId": "52e2b31c-b945-4be9-c61a-7ba5d48f10a4"
      },
      "execution_count": null,
      "outputs": [
        {
          "output_type": "stream",
          "name": "stdout",
          "text": [
            "kraunchasana\n",
            "parivritta sukhasana\n",
            "prana mudra\n",
            "setu asana\n",
            "utthita marichyasana\n"
          ]
        }
      ]
    }
  ]
}